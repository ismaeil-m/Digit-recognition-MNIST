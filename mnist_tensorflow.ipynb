{
  "nbformat": 4,
  "nbformat_minor": 0,
  "metadata": {
    "colab": {
      "name": "mnist_tensorflow.ipynb",
      "version": "0.3.2",
      "views": {},
      "default_view": {},
      "provenance": [],
      "collapsed_sections": []
    },
    "kernelspec": {
      "name": "python3",
      "display_name": "Python 3"
    },
    "accelerator": "GPU"
  },
  "cells": [
    {
      "metadata": {
        "id": "RZgpTclXIf1e",
        "colab_type": "code",
        "colab": {
          "autoexec": {
            "startup": false,
            "wait_interval": 0
          }
        }
      },
      "cell_type": "code",
      "source": [
        "import os\n",
        "import os.path as path\n",
        "\n",
        "import tensorflow as tf\n",
        "from tensorflow.python.tools import freeze_graph\n",
        "from tensorflow.python.tools import optimize_for_inference_lib\n",
        "\n",
        "from tensorflow.examples.tutorials.mnist import input_data"
      ],
      "execution_count": 0,
      "outputs": []
    },
    {
      "metadata": {
        "id": "E1XHo3SpI5yz",
        "colab_type": "code",
        "colab": {
          "autoexec": {
            "startup": false,
            "wait_interval": 0
          }
        }
      },
      "cell_type": "code",
      "source": [
        "MODEL_NAME = 'mnist_convnet'\n",
        "NUM_STEPS = 5000\n",
        "BATCH_SIZE = 64\n"
      ],
      "execution_count": 0,
      "outputs": []
    },
    {
      "metadata": {
        "id": "fxnOhhLXEZj9",
        "colab_type": "code",
        "colab": {
          "autoexec": {
            "startup": false,
            "wait_interval": 0
          }
        }
      },
      "cell_type": "code",
      "source": [
        "def model_input(input_node_name, keep_prob_node_name):\n",
        "    x = tf.placeholder(tf.float32, shape=[None, 28*28], name=input_node_name)\n",
        "    keep_prob = tf.placeholder(tf.float32, name=keep_prob_node_name)\n",
        "    y_ = tf.placeholder(tf.float32, shape=[None, 10])\n",
        "    return x, keep_prob, y_"
      ],
      "execution_count": 0,
      "outputs": []
    },
    {
      "metadata": {
        "id": "-j9r9I12Jpx3",
        "colab_type": "code",
        "colab": {
          "autoexec": {
            "startup": false,
            "wait_interval": 0
          }
        }
      },
      "cell_type": "code",
      "source": [
        "def build_model(x, keep_prob, y_, output_node_name):\n",
        "    x_image = tf.reshape(x, [-1, 28, 28, 1])\n",
        "    # 28*28*1\n",
        "\n",
        "    conv1 = tf.layers.conv2d(x_image, 64, 3, 1, 'same', activation=tf.nn.relu)\n",
        "    # 28*28*64\n",
        "    pool1 = tf.layers.max_pooling2d(conv1, 2, 2, 'same')\n",
        "    # 14*14*64\n",
        "\n",
        "    conv2 = tf.layers.conv2d(pool1, 128, 3, 1, 'same', activation=tf.nn.relu)\n",
        "    # 14*14*128\n",
        "    pool2 = tf.layers.max_pooling2d(conv2, 2, 2, 'same')\n",
        "    # 7*7*128\n",
        "\n",
        "    conv3 = tf.layers.conv2d(pool2, 256, 3, 1, 'same', activation=tf.nn.relu)\n",
        "    # 7*7*256\n",
        "    pool3 = tf.layers.max_pooling2d(conv3, 2, 2, 'same')\n",
        "    # 4*4*256\n",
        "\n",
        "    flatten = tf.reshape(pool3, [-1, 4*4*256])\n",
        "    fc = tf.layers.dense(flatten, 1024, activation=tf.nn.relu)\n",
        "    dropout = tf.nn.dropout(fc, keep_prob)\n",
        "    logits = tf.layers.dense(dropout, 10)\n",
        "    outputs = tf.nn.softmax(logits, name=output_node_name)\n",
        "\n",
        "    # loss\n",
        "    loss = tf.reduce_mean(\n",
        "        tf.nn.softmax_cross_entropy_with_logits(labels=y_, logits=logits))\n",
        "\n",
        "    # train step\n",
        "    train_step = tf.train.AdamOptimizer(1e-4).minimize(loss)\n",
        "\n",
        "    # accuracy\n",
        "    correct_prediction = tf.equal(tf.argmax(outputs, 1), tf.argmax(y_, 1))\n",
        "    accuracy = tf.reduce_mean(tf.cast(correct_prediction, tf.float32))\n",
        "\n",
        "    tf.summary.scalar(\"loss\", loss)\n",
        "    tf.summary.scalar(\"accuracy\", accuracy)\n",
        "    merged_summary_op = tf.summary.merge_all()\n",
        "\n",
        "    return train_step, loss, accuracy, merged_summary_op\n"
      ],
      "execution_count": 0,
      "outputs": []
    },
    {
      "metadata": {
        "id": "UiwnX1zjEkyq",
        "colab_type": "code",
        "colab": {
          "autoexec": {
            "startup": false,
            "wait_interval": 0
          }
        }
      },
      "cell_type": "code",
      "source": [
        "def train(x, keep_prob, y_, train_step, loss, accuracy,\n",
        "        merged_summary_op, saver):\n",
        "    print(\"training start...\")\n",
        "\n",
        "    mnist = input_data.read_data_sets(\"MNIST_data/\", one_hot=True)\n",
        "\n",
        "    init_op = tf.global_variables_initializer()\n",
        "\n",
        "    with tf.Session() as sess:\n",
        "        sess.run(init_op)\n",
        "\n",
        "        tf.train.write_graph(sess.graph_def, 'out',\n",
        "            MODEL_NAME + '.pbtxt', True)\n",
        "\n",
        "        # op to write logs to Tensorboard\n",
        "        summary_writer = tf.summary.FileWriter('logs/',\n",
        "            graph=tf.get_default_graph())\n",
        "\n",
        "        for step in range(NUM_STEPS):\n",
        "            batch = mnist.train.next_batch(BATCH_SIZE)\n",
        "            if step % 100 == 0:\n",
        "                train_accuracy = accuracy.eval(feed_dict={\n",
        "                    x: batch[0], y_: batch[1], keep_prob: 1.0})\n",
        "                print('step %d, training accuracy %f' % (step, train_accuracy))\n",
        "            _, summary = sess.run([train_step, merged_summary_op],\n",
        "                feed_dict={x: batch[0], y_: batch[1], keep_prob: 0.5})\n",
        "            summary_writer.add_summary(summary, step)\n",
        "\n",
        "        saver.save(sess, 'out/' + MODEL_NAME + '.chkp')\n",
        "\n",
        "        test_accuracy = accuracy.eval(feed_dict={x: mnist.test.images,\n",
        "                                    y_: mnist.test.labels,\n",
        "                                    keep_prob: 1.0})\n",
        "        print('test accuracy %g' % test_accuracy)\n",
        "\n",
        "    print(\"training finished!\")\n",
        "\n"
      ],
      "execution_count": 0,
      "outputs": []
    },
    {
      "metadata": {
        "id": "eXsmcme_EsnS",
        "colab_type": "code",
        "colab": {
          "autoexec": {
            "startup": false,
            "wait_interval": 0
          }
        }
      },
      "cell_type": "code",
      "source": [
        "def export_model(input_node_names, output_node_name):\n",
        "    freeze_graph.freeze_graph('out/' + MODEL_NAME + '.pbtxt', None, False,\n",
        "        'out/' + MODEL_NAME + '.chkp', output_node_name, \"save/restore_all\",\n",
        "        \"save/Const:0\", 'out/frozen_' + MODEL_NAME + '.pb', True, \"\")\n",
        "\n",
        "    input_graph_def = tf.GraphDef()\n",
        "    with tf.gfile.Open('out/frozen_' + MODEL_NAME + '.pb', \"rb\") as f:\n",
        "        input_graph_def.ParseFromString(f.read())\n",
        "\n",
        "    output_graph_def = optimize_for_inference_lib.optimize_for_inference(\n",
        "            input_graph_def, input_node_names, [output_node_name],\n",
        "            tf.float32.as_datatype_enum)\n",
        "\n",
        "    with tf.gfile.FastGFile('out/opt_' + MODEL_NAME + '.pb', \"wb\") as f:\n",
        "        f.write(output_graph_def.SerializeToString())\n",
        "\n",
        "    print(\"graph saved!\")"
      ],
      "execution_count": 0,
      "outputs": []
    },
    {
      "metadata": {
        "id": "lUX_pGyHExoX",
        "colab_type": "code",
        "colab": {
          "autoexec": {
            "startup": false,
            "wait_interval": 0
          },
          "base_uri": "https://localhost:8080/",
          "height": 1635
        },
        "outputId": "d2563a62-9298-4ccf-d52a-1431e9321d2c",
        "executionInfo": {
          "status": "ok",
          "timestamp": 1529216267450,
          "user_tz": -330,
          "elapsed": 81568,
          "user": {
            "displayName": "ismaeil ece",
            "photoUrl": "https://lh3.googleusercontent.com/a/default-user=s128",
            "userId": "101057231293977476835"
          }
        }
      },
      "cell_type": "code",
      "source": [
        "def main():\n",
        "    if not path.exists('out'):\n",
        "        os.mkdir('out')\n",
        "\n",
        "    input_node_name = 'input'\n",
        "    keep_prob_node_name = 'keep_prob'\n",
        "    output_node_name = 'output'\n",
        "\n",
        "    x, keep_prob, y_ = model_input(input_node_name, keep_prob_node_name)\n",
        "\n",
        "    train_step, loss, accuracy, merged_summary_op = build_model(x, keep_prob,\n",
        "        y_, output_node_name)\n",
        "    saver = tf.train.Saver()\n",
        "\n",
        "    train(x, keep_prob, y_, train_step, loss, accuracy,\n",
        "        merged_summary_op, saver)\n",
        "\n",
        "    export_model([input_node_name, keep_prob_node_name], output_node_name)\n",
        "\n",
        "if __name__ == '__main__':\n",
        "    main()"
      ],
      "execution_count": 7,
      "outputs": [
        {
          "output_type": "stream",
          "text": [
            "WARNING:tensorflow:From <ipython-input-4-e8662a9221c5>:28: softmax_cross_entropy_with_logits (from tensorflow.python.ops.nn_ops) is deprecated and will be removed in a future version.\n",
            "Instructions for updating:\n",
            "\n",
            "Future major versions of TensorFlow will allow gradients to flow\n",
            "into the labels input on backprop by default.\n",
            "\n",
            "See @{tf.nn.softmax_cross_entropy_with_logits_v2}.\n",
            "\n",
            "training start...\n",
            "WARNING:tensorflow:From <ipython-input-5-5ebec7e63666>:5: read_data_sets (from tensorflow.contrib.learn.python.learn.datasets.mnist) is deprecated and will be removed in a future version.\n",
            "Instructions for updating:\n",
            "Please use alternatives such as official/mnist/dataset.py from tensorflow/models.\n",
            "WARNING:tensorflow:From /usr/local/lib/python3.6/dist-packages/tensorflow/contrib/learn/python/learn/datasets/mnist.py:260: maybe_download (from tensorflow.contrib.learn.python.learn.datasets.base) is deprecated and will be removed in a future version.\n",
            "Instructions for updating:\n",
            "Please write your own downloading logic.\n",
            "WARNING:tensorflow:From /usr/local/lib/python3.6/dist-packages/tensorflow/contrib/learn/python/learn/datasets/base.py:252: _internal_retry.<locals>.wrap.<locals>.wrapped_fn (from tensorflow.contrib.learn.python.learn.datasets.base) is deprecated and will be removed in a future version.\n",
            "Instructions for updating:\n",
            "Please use urllib or similar directly.\n",
            "Successfully downloaded train-images-idx3-ubyte.gz 9912422 bytes.\n",
            "WARNING:tensorflow:From /usr/local/lib/python3.6/dist-packages/tensorflow/contrib/learn/python/learn/datasets/mnist.py:262: extract_images (from tensorflow.contrib.learn.python.learn.datasets.mnist) is deprecated and will be removed in a future version.\n",
            "Instructions for updating:\n",
            "Please use tf.data to implement this functionality.\n",
            "Extracting MNIST_data/train-images-idx3-ubyte.gz\n",
            "Successfully downloaded train-labels-idx1-ubyte.gz 28881 bytes.\n",
            "WARNING:tensorflow:From /usr/local/lib/python3.6/dist-packages/tensorflow/contrib/learn/python/learn/datasets/mnist.py:267: extract_labels (from tensorflow.contrib.learn.python.learn.datasets.mnist) is deprecated and will be removed in a future version.\n",
            "Instructions for updating:\n",
            "Please use tf.data to implement this functionality.\n",
            "Extracting MNIST_data/train-labels-idx1-ubyte.gz\n",
            "WARNING:tensorflow:From /usr/local/lib/python3.6/dist-packages/tensorflow/contrib/learn/python/learn/datasets/mnist.py:110: dense_to_one_hot (from tensorflow.contrib.learn.python.learn.datasets.mnist) is deprecated and will be removed in a future version.\n",
            "Instructions for updating:\n",
            "Please use tf.one_hot on tensors.\n",
            "Successfully downloaded t10k-images-idx3-ubyte.gz 1648877 bytes.\n",
            "Extracting MNIST_data/t10k-images-idx3-ubyte.gz\n",
            "Successfully downloaded t10k-labels-idx1-ubyte.gz 4542 bytes.\n",
            "Extracting MNIST_data/t10k-labels-idx1-ubyte.gz\n",
            "WARNING:tensorflow:From /usr/local/lib/python3.6/dist-packages/tensorflow/contrib/learn/python/learn/datasets/mnist.py:290: DataSet.__init__ (from tensorflow.contrib.learn.python.learn.datasets.mnist) is deprecated and will be removed in a future version.\n",
            "Instructions for updating:\n",
            "Please use alternatives such as official/mnist/dataset.py from tensorflow/models.\n",
            "step 0, training accuracy 0.187500\n",
            "step 100, training accuracy 0.937500\n",
            "step 200, training accuracy 0.921875\n",
            "step 300, training accuracy 0.968750\n",
            "step 400, training accuracy 0.968750\n",
            "step 500, training accuracy 0.968750\n",
            "step 600, training accuracy 0.968750\n",
            "step 700, training accuracy 0.968750\n",
            "step 800, training accuracy 0.968750\n",
            "step 900, training accuracy 0.968750\n",
            "step 1000, training accuracy 0.984375\n",
            "step 1100, training accuracy 0.968750\n",
            "step 1200, training accuracy 0.984375\n",
            "step 1300, training accuracy 0.984375\n",
            "step 1400, training accuracy 0.968750\n",
            "step 1500, training accuracy 0.984375\n",
            "step 1600, training accuracy 0.953125\n",
            "step 1700, training accuracy 0.968750\n",
            "step 1800, training accuracy 0.984375\n",
            "step 1900, training accuracy 1.000000\n",
            "step 2000, training accuracy 0.984375\n",
            "step 2100, training accuracy 1.000000\n"
          ],
          "name": "stdout"
        },
        {
          "output_type": "stream",
          "text": [
            "step 2200, training accuracy 1.000000\n",
            "step 2300, training accuracy 1.000000\n",
            "step 2400, training accuracy 0.968750\n",
            "step 2500, training accuracy 0.968750\n",
            "step 2600, training accuracy 0.968750\n",
            "step 2700, training accuracy 0.984375\n",
            "step 2800, training accuracy 0.953125\n",
            "step 2900, training accuracy 1.000000\n",
            "step 3000, training accuracy 0.937500\n",
            "step 3100, training accuracy 1.000000\n",
            "step 3200, training accuracy 0.984375\n",
            "step 3300, training accuracy 0.968750\n",
            "step 3400, training accuracy 0.984375\n",
            "step 3500, training accuracy 1.000000\n",
            "step 3600, training accuracy 1.000000\n",
            "step 3700, training accuracy 0.984375\n",
            "step 3800, training accuracy 1.000000\n",
            "step 3900, training accuracy 0.984375\n",
            "step 4000, training accuracy 1.000000\n",
            "step 4100, training accuracy 0.984375\n",
            "step 4200, training accuracy 1.000000\n",
            "step 4300, training accuracy 0.968750\n",
            "step 4400, training accuracy 1.000000\n",
            "step 4500, training accuracy 0.937500\n",
            "step 4600, training accuracy 1.000000\n",
            "step 4700, training accuracy 0.984375\n",
            "step 4800, training accuracy 1.000000\n",
            "step 4900, training accuracy 1.000000\n",
            "test accuracy 0.9914\n",
            "training finished!\n",
            "INFO:tensorflow:Restoring parameters from out/mnist_convnet.chkp\n",
            "INFO:tensorflow:Froze 10 variables.\n",
            "Converted 10 variables to const ops.\n",
            "graph saved!\n"
          ],
          "name": "stdout"
        }
      ]
    }
  ]
}